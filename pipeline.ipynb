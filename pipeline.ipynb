import numpy as np
from keras_preprocessing.sequence import pad_sequences
from keras_preprocessing.text import Tokenizer
from preprocessing import (pipeline_1, pipeline_2, pipeline_3)
from feature_engineering import (bow, frequency_distribution, word_cloud, pos_tagging, ner, count_vectorizer,
                                 terms_frequency)
from sklearn.model_selection import train_test_split
from model import build_model
import matplotlib.pyplot as plt

df = pipeline_1()

ner_, tree = ner(df)